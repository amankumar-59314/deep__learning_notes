{
  "cells": [
    {
      "cell_type": "markdown",
      "metadata": {
        "id": "UCvlYUCRkfMa"
      },
      "source": [
        "# PyTorch Basics: Tensors & Gradients\n",
        "\n",
        "<img src=\"data:image/png;base64,iVBORw0KGgoAAAANSUhEUgAAAT4AAACfCAMAAABX0UX9AAAAxlBMVEX////uTCwlJSUAAAAhISEiIiIXFxcUFBQcHBwRERHR0dHj4+PuSSgNDQ2Dg4NQUFCgoKCtra2amppmZmbw8PDuRiN1dXXtQRr5zMbp6enNzc01NTX5xLv/+vnuRB/4+PhAQEAuLi7Z2dnCwsL8495JSUn1mor1oJH0kYD+9vTtNgCAgIAxMTGQkJCbm5u0tLReXl796+jziHbyfmlhYWH4urD7083wYUTvWTz3sKXwaFDydl/2rKDuUTP2pZfziXnxcFrwZkzh9DwPAAAMHElEQVR4nO2dCXeaTBSGkXUQiLtEMbinSYzVJI1Z2rTN//9T3x1QGGBAQPvF5Nzn9LSJMCyvd+YuM1BBQBAEQRAEQRAEQRAEQRAEQRAEQRAEQRAEQRAEQRAEQTwG5x99BZ+ZcxflK8/GtFG+0gxMlK88G9OsoHxlOQf1UL6yDN5APZSvJJsOVQ/lK8fAVw/lK8Wm4quH8pXB8xooX0kGO9tD+Uqw9RooXykGjHqmOfvoy/lknL+F6lXcx8i26+uLD7qqz0LoNWjX/c1uml2+Pj08pjVEhIjXANv7Ftlku6bZsR+uP+raTh/Wa1TsiHqzbae2Lz/q4k4e1mtU3KhO9+728xsc//hEvca36MZnjKSz2US8RryPBtLagw+5ulNnYGbYniD87Ow6791HXN2pE7W9hHrgeP1NndcPuLiT5zyz5wIXVzewh+m+fZE8ZNhfLevHOlim19jy+6njvj18EfUEQ9WlxZGOle01dtxtzr+KeCCfLqpnxzlUVrx3AP3qjsnEaOdoMKlm0jvWhVEM7VjybSrZXiOFx32mKClbxPHtqNZqToZ7GtSIkoF1tKGKcjT5ourltr2Xm/c96a/E3LssE10arbIF/IzyzZ73ew0OL3bF3VM+kERR1i1A11SiiPCbNu9nNajphAEaKLrX3kc6RfkunjqlbI8Ol/ZV5j6SKM/rHs2z1tjSQRAiTzMaLLsMLVBvVGeZ5L24PBxHvougFFDIa7zc+HL/ytpJEkkr/K3dWFuKKKtZ+rH0oMfX8l5PcY4j3wujXn6v8bKzWDfLfUTlg0i1QWRRHu9zIFsM+fTlu2MCvgI919616vzMGP7i8gnCSlZEq5nvJMYnsD6m6xaI976FraL1/ChJ+YTvliiP8oSAn0K+czvU4b5AGTRU3aykF2A48rVFRZSquc5x+vJdvwddt1gh5SIoX1XcdO/LkU84U0U9X+9Nla83bSwXi+WqGh9E29Wp4f1QXdUb2x/ZNmfNRj/4lJGvN101VtH9c/EYGtFzsWz2Lkzz0r0HT74GpJpd+LdWq60TF7yCT1e7X1JcR7XrEEtTVc0S581IGtcYjSXaeloTIUpUnXUQ6EyCNrLTnfqq7+Qb9lsjAvsTp5WvV4SEZZabohOQofLp5seTb6X6H3YtIjXiG+cqEYN75lpfe2GpsqjIRKZ/Ww57iLql0KjoTPNCdFGRvm/bdHVoA7tD9ijKRFp7oftWvuoPicje/rIqreKny2QQjHydh0INKcHwl264WfL1QZxRbNuEsA148vUdDUJvsLt1zdFViCKlRdiD62DYU+EMUkXVkkBlzf8mqrSNrOu3I4eG7jD2Lr3DU/mGTRBPBdODP1TwxBeaxZ9gAOtsirTzmAXmZ7+k7JLSeQntvMMaaBVLI5qaKIVBNUe+iUjASGoro9duG5PFWBVFvRtsBfnIdKUr6vhsWl2dOYrfxiGioo6aE6NnGNV6jaiSd1qQjyy6GlFvF9PJZNKo0W9jXKCocxf0Xfc+f6uAy8D8nlL2SHEdmvft163tDwHDkSyPQmNKjn0GKEFuQwvpdXUII4ODgHxK05GtxTYw8vpobwxtRKZXThaOt92gdqzqo8bujE2wPy1nTEp5CfpuqYVAs3DgTGnOkW/oyFsL68Fg5EQiwKkUufyk9bVUUXYiFgu3rFi7T0A+0YnXZboaBJpRK/ctjMqnkC7jvRdw+FHOlAj4G6QOZYyPmXtLy3w58oFEyraHwNVKkfy3C4bJ3GhCvqkK9xur2Cw035FTqHwK05kpfejfErfUQOWL1nAMum/u3jt7CwavcjO3QczdeeBH3En5JmB82jba6qvRzYYjE1auhHwwWlrf4+cYy4GkVD5Si5rPnIgqv85FXUd0rmO4JqKUWVBjGQSOwy637OLuydwNfvzMIyFfD+5GkXbhniMrbFdsaKLFRg5x+QwJ+lbCOKDV7vug8lnRes4E+uOcnyNysg4Yl63csctv97C+KwhXuyPYfMcdk69Xh0GcGeoh/9UZy5jLUXXirmOpx32Nd9A5RG3+j9Tzxqy9rvHa+IdPyreELzB36PIQDF1l1+w97npvSuhC5RsOh+12u2dMGt0xhAaiFV6ycQvOI/xNit1O3Ppa/K4FI6blq+4FLrGNJDXD5sjXLCDfRVijLx70+cxudoEPv1gDbsJp/Viva/PRGOJSEI9IZ8zYRG8u6L1NPTbGx+Rr18Bnc04CAdC2x4J8clSrNpgmSanvHCjf9c500kauHAS+4yd3s0RDA0CWvbSI5ksR6wA3HIzecKckFuVF5Zs4ikI4J6lKou7fM0c+CI7SQpED5QtMxyy/aCX0HdzNEtXMh6g0J5/GbuU2HO76EEVHLz0u35jt6sxu0m4ETcrXg6Cv9m/k24RhR84WSXbDp/nM3UzlG3nMfywa02RIRTvs1tW1iOJEd4i5jglY0pxzknaWfDD6rv+NfEG9oLTjDV2v+cYt2UOkUcusLINFbXtsb6yo0YCXZ30jzjGMjM77D60vcJsZ9c59XB4on7AGf+L5Cwjf4m41Jp8BY5/KOUQf5PMtmD/2Of/GdYTylV/T8juQj+t99su3S3Mh4I/nC1zPyzkaiLbNermeNzUN+wrW194WWaAHavHcihP3WZw5Yoh+dP+npHxeUJiSR5zS2PfMTfv2y0cDfdpp6T9xK4lnHeBn1OSCvN4oCHg48kHWkayZbQ//CTzvXvkMi1ZPadCXuEtOzqvIieLJd3039PHkM1RREflVgFOK+965m3PIJ8yJ7PT6qqIn+mWi4vKDiHHvLAyJEoSOHPlolYasuSc+payD3//zyLeCnGvVJZwdE/L1wU3Hqk/DlioGExQ8+bx6H7docEo5L3+pQR75YOyS56KoJ28xWW3uaqKisvc3BNcQemyefMIZLQIuWafe9nOfQ+U7ZsWFX2/NI59XIgcLSU5SJ+c6vHKhuggOWa2BZwiHQ658bTpTpP8IPh82atJuruMQ+Zh6X1nf8SeYbONPduSSb0JTO5575My09Rzoi6remlYnk2pjbtGZo1AwrnyCMVLp3KaznPb702VN14nEzvOyFJIvrDa7h1ab//KXWeWSj47uosoJznjzvMZap2UvS74dw19gireMK+bLB20sOj2u0QWqGhi67M9wHCrf3aFPqZ3vy1sk3UqplLOs6PwZJzE1NFVP1AiGddEisr/Wmejqkj18XVI1bm20Oba2KwkUmUhjf2rSkIgVCyObklpgovzQmbZw8EyRf9lsNvZP/E1JMFsRodftdjk+s91Yj2RLsoizji5xEabQgL/Op13/4bVRx7XdEheht16vYxNPKzhA3rWvgvArXJ124DzvQU/40gmaYquWjep0Ou0XbdOnbfItLczFgasMgomiUq0D2hadETnkCB/FfeA8SiwzmIULZA56PrphFRivT4qDVlgFI5/5ekjfHUIqJn1K42PX9xV2vo/hJPtB7yapyoqaUhM5eZhFQgVXl14HK/LNp4PeTHKmibmf9Dg1rl/Dtc38okkKzNrmw4yPOo602YjTZ8CsrL8qMIQFXreg7AnouoijPqr2/xJaUYFnioRvoeqHud0JJGa3R4zF/m9mFfapopz2x6hXQHOWnp8dGHMSnxz/ZDCpR179wkJL2iTHXrrOclWt1kdEJPGqwOci8kSl/bq/8Dz7GQpulsr2INgbE9WSJF0WiVP8aZST4pp9GrrzvC/+Gzwzj/+6Jb3uVJJFD3Vc9FGUk4Md/iqmnfmmkdm9Xeq1BzF6TUeSLLC/lArJpyLyLoNKx71PE3B2ZTOmd8j8uveQWSO+4OqTMnBZ/Spu5X6Q9AgX5/dvLrtboUDxSxN5ZyS1QLvy53ETJmPXm8erit0xo+p94AWfGJu3TkS/itlxK8+vD38uLy//PLw/V9yogYLCZce9L8nsya7EMc1Ox3XdTsc0E5sKP4H5xbm4tBMipWK/fp13WR2Lx2d3v3Bev+1c4RsQk1xf2p394pn2K768lM/mobNHQNN+T3t6FxGE85923Mcy2kFA84L9NpPZt3f6enCedm/32G33c725/PvWscN4BYJAu/J+P0DDy8vs/Nf93zf7BgDlHn4PNpihlQD/iwkEQRAEQRAEQRAEQRAEQRAEQRAEQRAEQRAEQRAEQU6S/wCIV/TfHmqm6wAAAABJRU5ErkJggg==\" width=\"600\"\n",
        "     height=\"300\">\n",
        "\n",
        "\n",
        "\n",
        "  PyTorch is an open-source machine learning framework that is primarily used for developing and training deep learning models. It was developed by Facebook's AI Research Lab and released in 2016. PyTorch provides a flexible and dynamic approach to building neural networks, making it a popular choice among researchers and developers.\n",
        "\n",
        "The framework is built on a dynamic computational graph concept, which means that the graph is built and modified on-the-fly as the program runs. This allows for more intuitive and flexible model development, as you can use standard Python control flow statements and debug the model easily.\n",
        "\n",
        "PyTorch supports automatic differentiation, which enables efficient computation of gradients for training neural networks using backpropagation. It provides a rich set of tools and libraries for tasks such as data loading, model building, optimization, and evaluation.\n",
        "\n",
        "One of the key advantages of PyTorch is its support for GPU acceleration, allowing you to train models on GPUs to significantly speed up computations. It also has a large and active community, which means there are plenty of resources, tutorials, and pre-trained models available.\n",
        "\n",
        "PyTorch is often compared to TensorFlow, another popular deep learning framework. While TensorFlow focuses more on static computation graphs, PyTorch emphasizes dynamic computation graphs. This fundamental difference in design philosophy gives PyTorch an edge when it comes to flexibility and ease of use.\n",
        "\n",
        "Overall, PyTorch is widely used in the research community and is gaining popularity in industry applications as well. It provides a powerful and user-friendly platform for building and training deep learning models.\n",
        "\n"
      ]
    },
    {
      "cell_type": "markdown",
      "metadata": {
        "id": "V5zufMMCkfMo"
      },
      "source": [
        "## installation\n",
        "\n",
        "installation instructions here: https://pytorch.org ."
      ]
    },
    {
      "cell_type": "markdown",
      "metadata": {},
      "source": [
        "# Uncomment and run the appropriate command for your operating system, if required\n",
        "\n",
        "# Linux / Binder\n",
        "# !pip install numpy torch==1.7.0+cpu torchvision==0.8.1+cpu torchaudio==0.7.0 -f https://download.pytorch.org/whl/torch_stable.html\n",
        "\n",
        "# Windows\n",
        "# !pip install numpy torch==1.7.0+cpu torchvision==0.8.1+cpu torchaudio==0.7.0 -f https://download.pytorch.org/whl/torch_stable.html\n",
        "\n",
        "# MacOS\n",
        "# !pip install numpy torch torchvision torchaudio"
      ]
    },
    {
      "cell_type": "markdown",
      "metadata": {
        "id": "P18JcOiokfMr"
      },
      "source": [
        "Let's import the `torch` module to get started."
      ]
    },
    {
      "cell_type": "code",
      "execution_count": 2,
      "metadata": {
        "id": "DGo8nxo7kfMs"
      },
      "outputs": [],
      "source": [
        "import torch"
      ]
    },
    {
      "cell_type": "markdown",
      "metadata": {
        "id": "MqVgPkfKkfMt"
      },
      "source": [
        "## Tensors\n",
        "\n",
        "At its core, PyTorch is a library for processing tensors. A tensor is a number, vector, matrix, or any n-dimensional array. Let's create a tensor with a single number."
      ]
    },
    {
      "cell_type": "code",
      "execution_count": 3,
      "metadata": {
        "colab": {
          "base_uri": "https://localhost:8080/"
        },
        "id": "HUtf5elpkfMv",
        "outputId": "c6213e23-bfa8-4898-94cd-7c22e0ac5e33"
      },
      "outputs": [
        {
          "data": {
            "text/plain": [
              "tensor(4.)"
            ]
          },
          "execution_count": 3,
          "metadata": {},
          "output_type": "execute_result"
        }
      ],
      "source": [
        "# Number\n",
        "t1 = torch.tensor(4.)\n",
        "t1"
      ]
    },
    {
      "cell_type": "markdown",
      "metadata": {
        "id": "lIB1GJlakfMw"
      },
      "source": [
        "`4.` is a shorthand for `4.0`. It is used to indicate to Python (and PyTorch) that you want to create a floating-point number. We can verify this by checking the `dtype` attribute of our tensor."
      ]
    },
    {
      "cell_type": "code",
      "execution_count": 4,
      "metadata": {
        "colab": {
          "base_uri": "https://localhost:8080/"
        },
        "id": "Jz-QWm7NkfMx",
        "outputId": "0791321f-f126-429a-a9be-85df0cf7ce27"
      },
      "outputs": [
        {
          "data": {
            "text/plain": [
              "torch.float32"
            ]
          },
          "execution_count": 4,
          "metadata": {},
          "output_type": "execute_result"
        }
      ],
      "source": [
        "t1.dtype"
      ]
    },
    {
      "cell_type": "markdown",
      "metadata": {
        "id": "Vd_-gGY-kfMy"
      },
      "source": [
        "Let's try creating more complex tensors."
      ]
    },
    {
      "cell_type": "code",
      "execution_count": 5,
      "metadata": {
        "colab": {
          "base_uri": "https://localhost:8080/"
        },
        "id": "jIn2pRzLkfMz",
        "outputId": "fa01602b-46be-48a7-d11a-be37901ecaf1"
      },
      "outputs": [
        {
          "data": {
            "text/plain": [
              "tensor([1., 2., 3., 4.])"
            ]
          },
          "execution_count": 5,
          "metadata": {},
          "output_type": "execute_result"
        }
      ],
      "source": [
        "# Vector\n",
        "t2 = torch.tensor([1., 2, 3, 4])\n",
        "t2"
      ]
    },
    {
      "cell_type": "code",
      "execution_count": 6,
      "metadata": {
        "colab": {
          "base_uri": "https://localhost:8080/"
        },
        "id": "KdQsBZqukfM0",
        "outputId": "b37bfbe3-504f-4cae-c872-2796ccf09cae"
      },
      "outputs": [
        {
          "data": {
            "text/plain": [
              "tensor([[ 5.,  6.],\n",
              "        [ 7.,  8.],\n",
              "        [ 9., 10.]])"
            ]
          },
          "execution_count": 6,
          "metadata": {},
          "output_type": "execute_result"
        }
      ],
      "source": [
        "# Matrix\n",
        "t3 = torch.tensor([[5., 6],\n",
        "                   [7, 8],\n",
        "                   [9, 10]])\n",
        "t3"
      ]
    },
    {
      "cell_type": "code",
      "execution_count": 7,
      "metadata": {
        "colab": {
          "base_uri": "https://localhost:8080/"
        },
        "id": "0yZHb2E5kfM0",
        "outputId": "1253aafb-43a5-40c2-f5ae-7660cec39235"
      },
      "outputs": [
        {
          "data": {
            "text/plain": [
              "tensor([[[11., 12., 13.],\n",
              "         [13., 14., 15.]],\n",
              "\n",
              "        [[15., 16., 17.],\n",
              "         [17., 18., 19.]]])"
            ]
          },
          "execution_count": 7,
          "metadata": {},
          "output_type": "execute_result"
        }
      ],
      "source": [
        "# 3-dimensional array\n",
        "t4 = torch.tensor([\n",
        "    [[11, 12, 13],\n",
        "     [13, 14, 15]],\n",
        "    [[15, 16, 17],\n",
        "     [17, 18, 19.]]])\n",
        "t4"
      ]
    },
    {
      "cell_type": "markdown",
      "metadata": {
        "id": "zS8_bliOkfM1"
      },
      "source": [
        "Tensors can have any number of dimensions and different lengths along each dimension. We can inspect the length along each dimension using the `.shape` property of a tensor."
      ]
    },
    {
      "cell_type": "code",
      "execution_count": 8,
      "metadata": {
        "colab": {
          "base_uri": "https://localhost:8080/"
        },
        "id": "PUx8_FbXkfM1",
        "outputId": "81fb8513-ad30-4f42-95a7-eb21bcea9db6"
      },
      "outputs": [
        {
          "name": "stdout",
          "output_type": "stream",
          "text": [
            "tensor(4.)\n"
          ]
        },
        {
          "data": {
            "text/plain": [
              "torch.Size([])"
            ]
          },
          "execution_count": 8,
          "metadata": {},
          "output_type": "execute_result"
        }
      ],
      "source": [
        "print(t1)\n",
        "t1.shape"
      ]
    },
    {
      "cell_type": "code",
      "execution_count": 9,
      "metadata": {
        "colab": {
          "base_uri": "https://localhost:8080/"
        },
        "id": "CeRzfymnkfM2",
        "outputId": "91f26c00-48c3-40b8-db6c-0580162c948b"
      },
      "outputs": [
        {
          "name": "stdout",
          "output_type": "stream",
          "text": [
            "tensor([1., 2., 3., 4.])\n"
          ]
        },
        {
          "data": {
            "text/plain": [
              "torch.Size([4])"
            ]
          },
          "execution_count": 9,
          "metadata": {},
          "output_type": "execute_result"
        }
      ],
      "source": [
        "print(t2)\n",
        "t2.shape"
      ]
    },
    {
      "cell_type": "code",
      "execution_count": 10,
      "metadata": {
        "colab": {
          "base_uri": "https://localhost:8080/"
        },
        "id": "NXvIYzuxkfM2",
        "outputId": "6ca810a0-d20c-49f2-8a2c-363c5521f499"
      },
      "outputs": [
        {
          "name": "stdout",
          "output_type": "stream",
          "text": [
            "tensor([[ 5.,  6.],\n",
            "        [ 7.,  8.],\n",
            "        [ 9., 10.]])\n"
          ]
        },
        {
          "data": {
            "text/plain": [
              "torch.Size([3, 2])"
            ]
          },
          "execution_count": 10,
          "metadata": {},
          "output_type": "execute_result"
        }
      ],
      "source": [
        "print(t3)\n",
        "t3.shape"
      ]
    },
    {
      "cell_type": "code",
      "execution_count": 11,
      "metadata": {
        "colab": {
          "base_uri": "https://localhost:8080/"
        },
        "id": "p5okplTtkfM3",
        "outputId": "6d16bb62-fe42-47d8-a26a-6324a2ecbb48"
      },
      "outputs": [
        {
          "name": "stdout",
          "output_type": "stream",
          "text": [
            "tensor([[[11., 12., 13.],\n",
            "         [13., 14., 15.]],\n",
            "\n",
            "        [[15., 16., 17.],\n",
            "         [17., 18., 19.]]])\n"
          ]
        },
        {
          "data": {
            "text/plain": [
              "torch.Size([2, 2, 3])"
            ]
          },
          "execution_count": 11,
          "metadata": {},
          "output_type": "execute_result"
        }
      ],
      "source": [
        "print(t4)\n",
        "t4.shape"
      ]
    },
    {
      "cell_type": "markdown",
      "metadata": {
        "id": "-NOD0XtokfM3"
      },
      "source": [
        "Note that it's not possible to create tensors with an improper shape."
      ]
    },
    {
      "cell_type": "code",
      "execution_count": 12,
      "metadata": {
        "colab": {
          "base_uri": "https://localhost:8080/",
          "height": 235
        },
        "id": "ZiaIlFtWkfM4",
        "outputId": "aba02c1a-bcd8-4536-cf47-ee7980aa61c5"
      },
      "outputs": [
        {
          "ename": "ValueError",
          "evalue": "expected sequence of length 3 at dim 1 (got 2)",
          "output_type": "error",
          "traceback": [
            "\u001b[1;31m---------------------------------------------------------------------------\u001b[0m",
            "\u001b[1;31mValueError\u001b[0m                                Traceback (most recent call last)",
            "\u001b[1;32md:\\Developement _of _api _of_Aws\\deep__learning\\deeplearning\\Pytorch_demo.ipynb Cell 20\u001b[0m line \u001b[0;36m2\n\u001b[0;32m      <a href='vscode-notebook-cell:/d%3A/Developement%20_of%20_api%20_of_Aws/deep__learning/deeplearning/Pytorch_demo.ipynb#X25sZmlsZQ%3D%3D?line=0'>1</a>\u001b[0m \u001b[39m# Matrix\u001b[39;00m\n\u001b[1;32m----> <a href='vscode-notebook-cell:/d%3A/Developement%20_of%20_api%20_of_Aws/deep__learning/deeplearning/Pytorch_demo.ipynb#X25sZmlsZQ%3D%3D?line=1'>2</a>\u001b[0m t5 \u001b[39m=\u001b[39m torch\u001b[39m.\u001b[39;49mtensor([[\u001b[39m5.\u001b[39;49m, \u001b[39m6\u001b[39;49m, \u001b[39m11\u001b[39;49m],\n\u001b[0;32m      <a href='vscode-notebook-cell:/d%3A/Developement%20_of%20_api%20_of_Aws/deep__learning/deeplearning/Pytorch_demo.ipynb#X25sZmlsZQ%3D%3D?line=2'>3</a>\u001b[0m                    [\u001b[39m7\u001b[39;49m, \u001b[39m8\u001b[39;49m],\n\u001b[0;32m      <a href='vscode-notebook-cell:/d%3A/Developement%20_of%20_api%20_of_Aws/deep__learning/deeplearning/Pytorch_demo.ipynb#X25sZmlsZQ%3D%3D?line=3'>4</a>\u001b[0m                    [\u001b[39m9\u001b[39;49m, \u001b[39m10\u001b[39;49m]])\n\u001b[0;32m      <a href='vscode-notebook-cell:/d%3A/Developement%20_of%20_api%20_of_Aws/deep__learning/deeplearning/Pytorch_demo.ipynb#X25sZmlsZQ%3D%3D?line=4'>5</a>\u001b[0m t5\n",
            "\u001b[1;31mValueError\u001b[0m: expected sequence of length 3 at dim 1 (got 2)"
          ]
        }
      ],
      "source": [
        "# Matrix\n",
        "t5 = torch.tensor([[5., 6, 11],\n",
        "                   [7, 8],\n",
        "                   [9, 10]])\n",
        "t5"
      ]
    },
    {
      "cell_type": "markdown",
      "metadata": {
        "id": "yWBdhA9kkfM4"
      },
      "source": [
        "A `ValueError` is thrown because the lengths of the rows `[5., 6, 11]` and `[7, 8]` don't match."
      ]
    },
    {
      "cell_type": "markdown",
      "metadata": {
        "id": "g7cKJKdakfM5"
      },
      "source": [
        "## Tensor operations and gradients\n",
        "\n",
        "We can combine tensors with the usual arithmetic operations. Let's look at an example:"
      ]
    },
    {
      "cell_type": "code",
      "execution_count": 13,
      "metadata": {
        "colab": {
          "base_uri": "https://localhost:8080/"
        },
        "id": "Lj6TfIlokfM5",
        "outputId": "628fca2f-675f-4c9a-d8a2-323ced3d93e3"
      },
      "outputs": [
        {
          "data": {
            "text/plain": [
              "(tensor(3.), tensor(4., requires_grad=True), tensor(5., requires_grad=True))"
            ]
          },
          "execution_count": 13,
          "metadata": {},
          "output_type": "execute_result"
        }
      ],
      "source": [
        "# Create tensors.\n",
        "x = torch.tensor(3.)\n",
        "w = torch.tensor(4., requires_grad=True)\n",
        "b = torch.tensor(5., requires_grad=True)\n",
        "x, w, b"
      ]
    },
    {
      "cell_type": "markdown",
      "metadata": {
        "id": "zVZlcATrkfM5"
      },
      "source": [
        "We've created three tensors: `x`, `w`, and `b`, all numbers. `w` and `b` have an additional parameter `requires_grad` set to `True`. We'll see what it does in just a moment.\n",
        "\n",
        "Let's create a new tensor `y` by combining these tensors."
      ]
    },
    {
      "cell_type": "code",
      "execution_count": 14,
      "metadata": {
        "colab": {
          "base_uri": "https://localhost:8080/"
        },
        "id": "IKcsAaE0kfM6",
        "outputId": "d12880cc-a732-4b01-da26-c7e501796e99"
      },
      "outputs": [
        {
          "data": {
            "text/plain": [
              "tensor(17., grad_fn=<AddBackward0>)"
            ]
          },
          "execution_count": 14,
          "metadata": {},
          "output_type": "execute_result"
        }
      ],
      "source": [
        "# Arithmetic operations\n",
        "y = w * x + b\n",
        "y"
      ]
    },
    {
      "cell_type": "markdown",
      "metadata": {
        "id": "WNV4U0-OkfM6"
      },
      "source": [
        "As expected, `y` is a tensor with the value `3 * 4 + 5 = 17`. What makes PyTorch unique is that we can automatically compute the derivative of `y` w.r.t. the tensors that have `requires_grad` set to `True` i.e. w and b. This feature of PyTorch is called _autograd_ (automatic gradients).\n",
        "\n",
        "To compute the derivatives, we can invoke the `.backward` method on our result `y`."
      ]
    },
    {
      "cell_type": "code",
      "execution_count": 15,
      "metadata": {
        "id": "0RVH2vHCkfM6"
      },
      "outputs": [],
      "source": [
        "# Compute derivatives\n",
        "y.backward()"
      ]
    },
    {
      "cell_type": "markdown",
      "metadata": {
        "id": "RHyHerbekfM7"
      },
      "source": [
        "The derivatives of `y` with respect to the input tensors are stored in the `.grad` property of the respective tensors."
      ]
    },
    {
      "cell_type": "code",
      "execution_count": 16,
      "metadata": {
        "colab": {
          "base_uri": "https://localhost:8080/"
        },
        "id": "_zTB-VUqkfM7",
        "outputId": "6d5d0032-6db9-4042-e8f3-c14e378bb704"
      },
      "outputs": [
        {
          "name": "stdout",
          "output_type": "stream",
          "text": [
            "dy/dx: None\n",
            "dy/dw: tensor(3.)\n",
            "dy/db: tensor(1.)\n"
          ]
        }
      ],
      "source": [
        "# Display gradients\n",
        "print('dy/dx:', x.grad)\n",
        "print('dy/dw:', w.grad)\n",
        "print('dy/db:', b.grad)"
      ]
    },
    {
      "cell_type": "markdown",
      "metadata": {
        "id": "RvGfw6PJkfM7"
      },
      "source": [
        "As expected, `dy/dw` has the same value as `x`, i.e., `3`, and `dy/db` has the value `1`. Note that `x.grad` is `None` because `x` doesn't have `requires_grad` set to `True`.\n",
        "\n",
        "The \"grad\" in `w.grad` is short for _gradient_, which is another term for derivative. The term _gradient_ is primarily used while dealing with vectors and matrices."
      ]
    },
    {
      "cell_type": "markdown",
      "metadata": {
        "id": "FvR-LWzgkfM8"
      },
      "source": [
        "## Tensor functions\n",
        "\n",
        "Apart from arithmetic operations, the `torch` module also contains many functions for creating and manipulating tensors. Let's look at some examples."
      ]
    },
    {
      "cell_type": "code",
      "execution_count": 17,
      "metadata": {
        "colab": {
          "base_uri": "https://localhost:8080/"
        },
        "id": "gi5eISBckfM8",
        "outputId": "0de33509-4984-4d8f-c272-151695a9802f"
      },
      "outputs": [
        {
          "data": {
            "text/plain": [
              "tensor([[42, 42],\n",
              "        [42, 42],\n",
              "        [42, 42]])"
            ]
          },
          "execution_count": 17,
          "metadata": {},
          "output_type": "execute_result"
        }
      ],
      "source": [
        "# Create a tensor with a fixed value for every element\n",
        "t6 = torch.full((3, 2), 42)\n",
        "t6"
      ]
    },
    {
      "cell_type": "code",
      "execution_count": 18,
      "metadata": {
        "colab": {
          "base_uri": "https://localhost:8080/"
        },
        "id": "caAPy-P7kfM8",
        "outputId": "679f1831-29ba-4dd0-c1e2-75f11b9fd0de"
      },
      "outputs": [
        {
          "data": {
            "text/plain": [
              "tensor([[ 5.,  6.],\n",
              "        [ 7.,  8.],\n",
              "        [ 9., 10.],\n",
              "        [42., 42.],\n",
              "        [42., 42.],\n",
              "        [42., 42.]])"
            ]
          },
          "execution_count": 18,
          "metadata": {},
          "output_type": "execute_result"
        }
      ],
      "source": [
        "# Concatenate two tensors with compatible shapes\n",
        "t7 = torch.cat((t3, t6))\n",
        "t7"
      ]
    },
    {
      "cell_type": "code",
      "execution_count": 19,
      "metadata": {
        "colab": {
          "base_uri": "https://localhost:8080/"
        },
        "id": "RHmUkGOHkfM9",
        "outputId": "a21521d5-e61a-40d7-ca4c-9a41f18e473e"
      },
      "outputs": [
        {
          "data": {
            "text/plain": [
              "tensor([[-0.9589, -0.2794],\n",
              "        [ 0.6570,  0.9894],\n",
              "        [ 0.4121, -0.5440],\n",
              "        [-0.9165, -0.9165],\n",
              "        [-0.9165, -0.9165],\n",
              "        [-0.9165, -0.9165]])"
            ]
          },
          "execution_count": 19,
          "metadata": {},
          "output_type": "execute_result"
        }
      ],
      "source": [
        "# Compute the sin of each element\n",
        "t8 = torch.sin(t7)\n",
        "t8"
      ]
    },
    {
      "cell_type": "code",
      "execution_count": 20,
      "metadata": {
        "colab": {
          "base_uri": "https://localhost:8080/"
        },
        "id": "K9UFIgc-kfM9",
        "outputId": "ba505d7d-7c32-41fc-a7f5-8cb4b92ddf26"
      },
      "outputs": [
        {
          "data": {
            "text/plain": [
              "tensor([[[-0.9589, -0.2794],\n",
              "         [ 0.6570,  0.9894]],\n",
              "\n",
              "        [[ 0.4121, -0.5440],\n",
              "         [-0.9165, -0.9165]],\n",
              "\n",
              "        [[-0.9165, -0.9165],\n",
              "         [-0.9165, -0.9165]]])"
            ]
          },
          "execution_count": 20,
          "metadata": {},
          "output_type": "execute_result"
        }
      ],
      "source": [
        "# Change the shape of a tensor\n",
        "t9 = t8.reshape(3, 2, 2)\n",
        "t9"
      ]
    },
    {
      "cell_type": "markdown",
      "metadata": {
        "id": "4YK9aNsnkfM9"
      },
      "source": [
        "You can learn more about tensor operations here: https://pytorch.org/docs/stable/torch.html . Experiment with some more tensor functions and operations using the empty cells below."
      ]
    },
    {
      "cell_type": "code",
      "execution_count": null,
      "metadata": {
        "id": "NTgXrNyRkfM-"
      },
      "outputs": [],
      "source": []
    },
    {
      "cell_type": "markdown",
      "metadata": {
        "id": "36942dZpkfM-"
      },
      "source": [
        "## Interoperability with Numpy\n",
        "\n",
        "[Numpy](http://www.numpy.org/) is a popular open-source library used for mathematical and scientific computing in Python. It enables efficient operations on large multi-dimensional arrays and has a vast ecosystem of supporting libraries, including:\n",
        "\n",
        "* [Pandas](https://pandas.pydata.org/) for file I/O and data analysis\n",
        "* [Matplotlib](https://matplotlib.org/) for plotting and visualization\n",
        "* [OpenCV](https://opencv.org/) for image and video processing\n",
        "\n",
        "\n",
        "Instead of reinventing the wheel, PyTorch interoperates well with Numpy to leverage its existing ecosystem of tools and libraries."
      ]
    },
    {
      "cell_type": "markdown",
      "metadata": {
        "id": "yKH8QMxDkfM-"
      },
      "source": [
        "Here's how we create an array in Numpy:"
      ]
    },
    {
      "cell_type": "code",
      "execution_count": 21,
      "metadata": {
        "colab": {
          "base_uri": "https://localhost:8080/"
        },
        "id": "XlCWcXUckfM_",
        "outputId": "ef6e6ad3-3fea-4e78-e5b3-d6c09cb58e7e"
      },
      "outputs": [
        {
          "data": {
            "text/plain": [
              "array([[1., 2.],\n",
              "       [3., 4.]])"
            ]
          },
          "execution_count": 21,
          "metadata": {},
          "output_type": "execute_result"
        }
      ],
      "source": [
        "import numpy as np\n",
        "\n",
        "x = np.array([[1, 2], [3, 4.]])\n",
        "x"
      ]
    },
    {
      "cell_type": "markdown",
      "metadata": {
        "id": "2V-UeD40kfM_"
      },
      "source": [
        "We can convert a Numpy array to a PyTorch tensor using `torch.from_numpy`."
      ]
    },
    {
      "cell_type": "code",
      "execution_count": 22,
      "metadata": {
        "colab": {
          "base_uri": "https://localhost:8080/"
        },
        "id": "DaPUjIiokfNB",
        "outputId": "c8ad3bb6-f60c-4af1-c7ef-035a52244434"
      },
      "outputs": [
        {
          "data": {
            "text/plain": [
              "tensor([[1., 2.],\n",
              "        [3., 4.]], dtype=torch.float64)"
            ]
          },
          "execution_count": 22,
          "metadata": {},
          "output_type": "execute_result"
        }
      ],
      "source": [
        "# Convert the numpy array to a torch tensor.\n",
        "y = torch.from_numpy(x)\n",
        "y"
      ]
    },
    {
      "cell_type": "markdown",
      "metadata": {
        "id": "D-kN6vp4kfNC"
      },
      "source": [
        "Let's verify that the numpy array and torch tensor have similar data types."
      ]
    },
    {
      "cell_type": "code",
      "execution_count": 23,
      "metadata": {
        "colab": {
          "base_uri": "https://localhost:8080/"
        },
        "id": "KL76Ma8ekfND",
        "outputId": "54ab5324-e79b-407b-b8c0-89ef879617df"
      },
      "outputs": [
        {
          "data": {
            "text/plain": [
              "(dtype('float64'), torch.float64)"
            ]
          },
          "execution_count": 23,
          "metadata": {},
          "output_type": "execute_result"
        }
      ],
      "source": [
        "x.dtype, y.dtype"
      ]
    },
    {
      "cell_type": "markdown",
      "metadata": {
        "id": "I-vuHKXXkfNE"
      },
      "source": [
        "We can convert a PyTorch tensor to a Numpy array using the `.numpy` method of a tensor."
      ]
    },
    {
      "cell_type": "code",
      "execution_count": 24,
      "metadata": {
        "colab": {
          "base_uri": "https://localhost:8080/"
        },
        "id": "OEBugCySkfNE",
        "outputId": "fb7b7496-d808-4d6f-8145-403652938ad7"
      },
      "outputs": [
        {
          "data": {
            "text/plain": [
              "array([[1., 2.],\n",
              "       [3., 4.]])"
            ]
          },
          "execution_count": 24,
          "metadata": {},
          "output_type": "execute_result"
        }
      ],
      "source": [
        "# Convert a torch tensor to a numpy array\n",
        "z = y.numpy()\n",
        "z"
      ]
    },
    {
      "cell_type": "markdown",
      "metadata": {
        "id": "GgxySGeWkfNE"
      },
      "source": [
        "The interoperability between PyTorch and Numpy is essential because most datasets you'll work with will likely be read and preprocessed as Numpy arrays.\n",
        "\n",
        "You might wonder why we need a library like PyTorch at all since Numpy already provides data structures and utilities for working with multi-dimensional numeric data. There are two main reasons:\n",
        "\n",
        "1. **Autograd**: The ability to automatically compute gradients for tensor operations is essential for training deep learning models.\n",
        "2. **GPU support**: While working with massive datasets and large models, PyTorch tensor operations can be performed efficiently using a Graphics Processing Unit (GPU). Computations that might typically take hours can be completed within minutes using GPUs.\n",
        "\n"
      ]
    },
    {
      "cell_type": "code",
      "execution_count": null,
      "metadata": {
        "id": "aOg5UDH45k9x"
      },
      "outputs": [],
      "source": []
    },
    {
      "cell_type": "markdown",
      "metadata": {
        "id": "GPb963Lz5laq"
      },
      "source": [
        "## Linear-regression from scrach using pytorch"
      ]
    },
    {
      "cell_type": "code",
      "execution_count": 25,
      "metadata": {
        "id": "elamAaJH5tYF"
      },
      "outputs": [],
      "source": [
        "import numpy as np\n",
        "import torch"
      ]
    },
    {
      "cell_type": "code",
      "execution_count": 26,
      "metadata": {
        "id": "Ze7LRltk5tUV"
      },
      "outputs": [],
      "source": [
        "#making training data\n",
        "# Input (temp, rainfall, humidity)\n",
        "inputs = np.array([[73, 67, 43],\n",
        "                   [91, 88, 64],\n",
        "                   [87, 134, 58],\n",
        "                   [102, 43, 37],\n",
        "                   [69, 96, 70]], dtype='float32')"
      ]
    },
    {
      "cell_type": "code",
      "execution_count": 27,
      "metadata": {
        "id": "ars5xesW5tRt"
      },
      "outputs": [],
      "source": [
        "# Targets (apples, oranges)\n",
        "target = np.array([[56, 70],\n",
        "                    [81, 101],\n",
        "                    [119, 133],\n",
        "                    [22, 37],\n",
        "                    [103, 119]], dtype='float32')"
      ]
    },
    {
      "cell_type": "code",
      "execution_count": 28,
      "metadata": {
        "colab": {
          "base_uri": "https://localhost:8080/"
        },
        "id": "L92TqO635tPO",
        "outputId": "89e342c8-3939-4f44-8b67-6da057bfc0a5"
      },
      "outputs": [
        {
          "name": "stdout",
          "output_type": "stream",
          "text": [
            "tensor([[ 73.,  67.,  43.],\n",
            "        [ 91.,  88.,  64.],\n",
            "        [ 87., 134.,  58.],\n",
            "        [102.,  43.,  37.],\n",
            "        [ 69.,  96.,  70.]]) \n",
            "\n",
            "tensor([[ 56.,  70.],\n",
            "        [ 81., 101.],\n",
            "        [119., 133.],\n",
            "        [ 22.,  37.],\n",
            "        [103., 119.]])\n"
          ]
        }
      ],
      "source": [
        "#Convert input and target to tensors\n",
        "inputs = torch.from_numpy(inputs)\n",
        "target = torch.from_numpy(target)\n",
        "\n",
        "print(inputs,\"\\n\")\n",
        "print(target)"
      ]
    },
    {
      "cell_type": "code",
      "execution_count": 29,
      "metadata": {
        "colab": {
          "base_uri": "https://localhost:8080/"
        },
        "id": "-m_2iaph5tMh",
        "outputId": "9cef4156-01f7-4b8c-d157-cb8247a9b63d"
      },
      "outputs": [
        {
          "name": "stdout",
          "output_type": "stream",
          "text": [
            "tensor([[-0.5991, -0.7355,  1.6818],\n",
            "        [-0.2552, -0.4695,  0.1953]], requires_grad=True)\n",
            "tensor([ 0.8394, -0.0563], requires_grad=True)\n"
          ]
        }
      ],
      "source": [
        "# weights and biases\n",
        "w = torch.randn(2,3 , requires_grad=True)\n",
        "b = torch.randn(2, requires_grad=True)\n",
        "\n",
        "print(w)\n",
        "print(b)"
      ]
    },
    {
      "cell_type": "code",
      "execution_count": 30,
      "metadata": {
        "id": "ZHqEIQKU56cs"
      },
      "outputs": [],
      "source": [
        "#define the model\n",
        "\n",
        "def model(x):\n",
        "  return x @ w.t() + b"
      ]
    },
    {
      "cell_type": "code",
      "execution_count": 31,
      "metadata": {
        "colab": {
          "base_uri": "https://localhost:8080/"
        },
        "id": "C9J__d3l56Ze",
        "outputId": "eedb0f57-552b-4edf-948b-f349f8cff3b0"
      },
      "outputs": [
        {
          "name": "stdout",
          "output_type": "stream",
          "text": [
            "tensor([[-19.8505, -41.7410],\n",
            "        [-10.7603, -52.0913],\n",
            "        [-52.2871, -73.8374],\n",
            "        [-29.6625, -39.0476],\n",
            "        [  6.6261, -49.0600]], grad_fn=<AddBackward0>)\n"
          ]
        }
      ],
      "source": [
        "# prediction\n",
        "preds = model(inputs)\n",
        "print(preds)"
      ]
    },
    {
      "cell_type": "code",
      "execution_count": 32,
      "metadata": {
        "colab": {
          "base_uri": "https://localhost:8080/"
        },
        "id": "eV0XrG2k56Xf",
        "outputId": "b5b59959-16a2-40ca-8ac9-b1c201d3c221"
      },
      "outputs": [
        {
          "name": "stdout",
          "output_type": "stream",
          "text": [
            "tensor([[ 56.,  70.],\n",
            "        [ 81., 101.],\n",
            "        [119., 133.],\n",
            "        [ 22.,  37.],\n",
            "        [103., 119.]])\n"
          ]
        }
      ],
      "source": [
        "#actual\n",
        "print(target)"
      ]
    },
    {
      "cell_type": "code",
      "execution_count": 33,
      "metadata": {
        "id": "vlr1NKsC56Ts"
      },
      "outputs": [],
      "source": [
        "# loss function MSE\n",
        "def MSE(actual, target):\n",
        "  diff = actual - target\n",
        "  return torch.sum(diff * diff) / diff.numel()"
      ]
    },
    {
      "cell_type": "code",
      "execution_count": 34,
      "metadata": {
        "colab": {
          "base_uri": "https://localhost:8080/"
        },
        "id": "rQJRKGXP56RJ",
        "outputId": "33cfbbd2-6a17-4145-d1da-1d716d48aa08"
      },
      "outputs": [
        {
          "name": "stdout",
          "output_type": "stream",
          "text": [
            "tensor(16820.1523, grad_fn=<DivBackward0>)\n"
          ]
        }
      ],
      "source": [
        "# error\n",
        "loss = MSE(target, preds)\n",
        "print(loss)"
      ]
    },
    {
      "cell_type": "code",
      "execution_count": 35,
      "metadata": {
        "id": "iGypGOsF56Oi"
      },
      "outputs": [],
      "source": [
        "# compute gradients\n",
        "loss.backward()"
      ]
    },
    {
      "cell_type": "code",
      "execution_count": 36,
      "metadata": {
        "colab": {
          "base_uri": "https://localhost:8080/"
        },
        "id": "TKRT4IVP56Lu",
        "outputId": "283af31e-52dd-41e5-aec1-02336df2a05f"
      },
      "outputs": [
        {
          "name": "stdout",
          "output_type": "stream",
          "text": [
            "tensor([[-0.5991, -0.7355,  1.6818],\n",
            "        [-0.2552, -0.4695,  0.1953]], requires_grad=True) \n",
            "\n",
            "tensor([[ -8141.7236,  -9516.5469,  -5545.3130],\n",
            "        [-11887.2490, -13615.7393,  -8235.4473]])\n"
          ]
        }
      ],
      "source": [
        "print(w, \"\\n\")\n",
        "print(w.grad)"
      ]
    },
    {
      "cell_type": "code",
      "execution_count": 37,
      "metadata": {
        "colab": {
          "base_uri": "https://localhost:8080/"
        },
        "id": "YWMcsxjz6IBr",
        "outputId": "ba053027-5420-41f5-a75c-04b740ca68bb"
      },
      "outputs": [
        {
          "name": "stdout",
          "output_type": "stream",
          "text": [
            "tensor([ 0.8394, -0.0563], requires_grad=True) \n",
            "\n",
            "tensor([ -97.3868, -143.1555])\n"
          ]
        }
      ],
      "source": [
        "print(b, \"\\n\")\n",
        "print(b.grad)"
      ]
    },
    {
      "cell_type": "code",
      "execution_count": 38,
      "metadata": {
        "colab": {
          "base_uri": "https://localhost:8080/"
        },
        "id": "qjdeYBsU6H-6",
        "outputId": "5832a926-e98c-4f5e-9e17-ad785eb8e0d6"
      },
      "outputs": [
        {
          "name": "stdout",
          "output_type": "stream",
          "text": [
            "tensor([[0., 0., 0.],\n",
            "        [0., 0., 0.]])\n",
            "tensor([0., 0.])\n"
          ]
        }
      ],
      "source": [
        "#reset grad\n",
        "w.grad.zero_()\n",
        "b.grad.zero_()\n",
        "\n",
        "print(w.grad)\n",
        "print(b.grad)"
      ]
    },
    {
      "cell_type": "code",
      "execution_count": 39,
      "metadata": {
        "colab": {
          "base_uri": "https://localhost:8080/"
        },
        "id": "vIbBPr-x6H8l",
        "outputId": "f8974e80-681f-420e-8b9e-fcfe995ebedf"
      },
      "outputs": [
        {
          "name": "stdout",
          "output_type": "stream",
          "text": [
            "tensor([[-19.8505, -41.7410],\n",
            "        [-10.7603, -52.0913],\n",
            "        [-52.2871, -73.8374],\n",
            "        [-29.6625, -39.0476],\n",
            "        [  6.6261, -49.0600]], grad_fn=<AddBackward0>)\n"
          ]
        }
      ],
      "source": [
        "# adjust params\n",
        "\n",
        "preds = model(inputs)\n",
        "print(preds)"
      ]
    },
    {
      "cell_type": "code",
      "execution_count": 40,
      "metadata": {
        "colab": {
          "base_uri": "https://localhost:8080/"
        },
        "id": "IEOGA0cy6PzN",
        "outputId": "8635d910-3448-46ff-e47d-4a5154c0abab"
      },
      "outputs": [
        {
          "name": "stdout",
          "output_type": "stream",
          "text": [
            "tensor(16820.1523, grad_fn=<DivBackward0>)\n"
          ]
        }
      ],
      "source": [
        "# loss\n",
        "loss = MSE(target, preds)\n",
        "print(loss)"
      ]
    },
    {
      "cell_type": "code",
      "execution_count": 41,
      "metadata": {
        "colab": {
          "base_uri": "https://localhost:8080/"
        },
        "id": "Du5TIt2e6Pwg",
        "outputId": "9704e23a-f37a-4137-a71e-37f673dca82d"
      },
      "outputs": [
        {
          "name": "stdout",
          "output_type": "stream",
          "text": [
            "tensor([[ -8141.7236,  -9516.5469,  -5545.3130],\n",
            "        [-11887.2490, -13615.7393,  -8235.4473]]) \n",
            "\n",
            "tensor([ -97.3868, -143.1555])\n"
          ]
        }
      ],
      "source": [
        "loss.backward()\n",
        "\n",
        "print(w.grad, \"\\n\")\n",
        "print(b.grad)"
      ]
    },
    {
      "cell_type": "code",
      "execution_count": 42,
      "metadata": {
        "id": "Jx0SBLV56PtU"
      },
      "outputs": [],
      "source": [
        "  # adjust weight & reset grad\n",
        "with torch.no_grad():\n",
        "    w -= w.grad * 1e-5\n",
        "    b -= b.grad * 1e-5\n",
        "    w.grad.zero_()\n",
        "    b.grad.zero_()"
      ]
    },
    {
      "cell_type": "code",
      "execution_count": 43,
      "metadata": {
        "colab": {
          "base_uri": "https://localhost:8080/"
        },
        "id": "tD2CAdtn6Pq2",
        "outputId": "0568d999-f00f-4567-9c22-e71d7775fdf9"
      },
      "outputs": [
        {
          "name": "stdout",
          "output_type": "stream",
          "text": [
            "tensor([[-0.5176, -0.6403,  1.7373],\n",
            "        [-0.1363, -0.3333,  0.2777]], requires_grad=True)\n",
            "tensor([ 0.8404, -0.0548], requires_grad=True)\n"
          ]
        }
      ],
      "source": [
        "print(w)\n",
        "print(b)"
      ]
    },
    {
      "cell_type": "code",
      "execution_count": 44,
      "metadata": {
        "colab": {
          "base_uri": "https://localhost:8080/"
        },
        "id": "mZT-GtGY6Xzq",
        "outputId": "e8246072-6438-42e2-fae8-119c729052ab"
      },
      "outputs": [
        {
          "name": "stdout",
          "output_type": "stream",
          "text": [
            "tensor(11519.4111, grad_fn=<DivBackward0>)\n"
          ]
        }
      ],
      "source": [
        "# calculate again\n",
        "preds = model(inputs)\n",
        "loss = MSE(target, preds)\n",
        "print(loss)"
      ]
    },
    {
      "cell_type": "code",
      "execution_count": 45,
      "metadata": {
        "colab": {
          "base_uri": "https://localhost:8080/"
        },
        "id": "ijRMFN3C6Xv1",
        "outputId": "dfe54b14-a643-4646-8046-c2147aea9e3e"
      },
      "outputs": [
        {
          "name": "stdout",
          "output_type": "stream",
          "text": [
            "Epochs(0/100) & Loss 11519.4111328125\n",
            "Epochs(1/100) & Loss 7945.36962890625\n",
            "Epochs(2/100) & Loss 5534.9521484375\n",
            "Epochs(3/100) & Loss 3908.708251953125\n",
            "Epochs(4/100) & Loss 2810.928955078125\n",
            "Epochs(5/100) & Loss 2069.29833984375\n",
            "Epochs(6/100) & Loss 1567.6937255859375\n",
            "Epochs(7/100) & Loss 1227.862060546875\n",
            "Epochs(8/100) & Loss 997.0682373046875\n",
            "Epochs(9/100) & Loss 839.7757568359375\n",
            "Epochs(10/100) & Loss 732.0362548828125\n",
            "Epochs(11/100) & Loss 657.7111206054688\n",
            "Epochs(12/100) & Loss 605.9244384765625\n",
            "Epochs(13/100) & Loss 569.3468017578125\n",
            "Epochs(14/100) & Loss 543.0390625\n",
            "Epochs(15/100) & Loss 523.6720581054688\n",
            "Epochs(16/100) & Loss 509.00244140625\n",
            "Epochs(17/100) & Loss 497.51800537109375\n",
            "Epochs(18/100) & Loss 488.19952392578125\n",
            "Epochs(19/100) & Loss 480.3600158691406\n",
            "Epochs(20/100) & Loss 473.5360412597656\n",
            "Epochs(21/100) & Loss 467.41534423828125\n",
            "Epochs(22/100) & Loss 461.78692626953125\n",
            "Epochs(23/100) & Loss 456.5086975097656\n",
            "Epochs(24/100) & Loss 451.484375\n",
            "Epochs(25/100) & Loss 446.649169921875\n",
            "Epochs(26/100) & Loss 441.9588928222656\n",
            "Epochs(27/100) & Loss 437.38372802734375\n",
            "Epochs(28/100) & Loss 432.9033203125\n",
            "Epochs(29/100) & Loss 428.50390625\n",
            "Epochs(30/100) & Loss 424.17547607421875\n",
            "Epochs(31/100) & Loss 419.9117126464844\n",
            "Epochs(32/100) & Loss 415.707763671875\n",
            "Epochs(33/100) & Loss 411.56024169921875\n",
            "Epochs(34/100) & Loss 407.466796875\n",
            "Epochs(35/100) & Loss 403.42523193359375\n",
            "Epochs(36/100) & Loss 399.4344482421875\n",
            "Epochs(37/100) & Loss 395.4931335449219\n",
            "Epochs(38/100) & Loss 391.6002502441406\n",
            "Epochs(39/100) & Loss 387.75494384765625\n",
            "Epochs(40/100) & Loss 383.9565124511719\n",
            "Epochs(41/100) & Loss 380.204345703125\n",
            "Epochs(42/100) & Loss 376.49761962890625\n",
            "Epochs(43/100) & Loss 372.835693359375\n",
            "Epochs(44/100) & Loss 369.21807861328125\n",
            "Epochs(45/100) & Loss 365.644287109375\n",
            "Epochs(46/100) & Loss 362.11358642578125\n",
            "Epochs(47/100) & Loss 358.62548828125\n",
            "Epochs(48/100) & Loss 355.17938232421875\n",
            "Epochs(49/100) & Loss 351.7748107910156\n",
            "Epochs(50/100) & Loss 348.4112548828125\n",
            "Epochs(51/100) & Loss 345.08807373046875\n",
            "Epochs(52/100) & Loss 341.80499267578125\n",
            "Epochs(53/100) & Loss 338.5613098144531\n",
            "Epochs(54/100) & Loss 335.35662841796875\n",
            "Epochs(55/100) & Loss 332.19036865234375\n",
            "Epochs(56/100) & Loss 329.062255859375\n",
            "Epochs(57/100) & Loss 325.9715576171875\n",
            "Epochs(58/100) & Loss 322.9179382324219\n",
            "Epochs(59/100) & Loss 319.9009094238281\n",
            "Epochs(60/100) & Loss 316.9200134277344\n",
            "Epochs(61/100) & Loss 313.97479248046875\n",
            "Epochs(62/100) & Loss 311.0648193359375\n",
            "Epochs(63/100) & Loss 308.18963623046875\n",
            "Epochs(64/100) & Loss 305.34869384765625\n",
            "Epochs(65/100) & Loss 302.541748046875\n",
            "Epochs(66/100) & Loss 299.76837158203125\n",
            "Epochs(67/100) & Loss 297.0279541015625\n",
            "Epochs(68/100) & Loss 294.3202819824219\n",
            "Epochs(69/100) & Loss 291.6449279785156\n",
            "Epochs(70/100) & Loss 289.0013122558594\n",
            "Epochs(71/100) & Loss 286.3891906738281\n",
            "Epochs(72/100) & Loss 283.80810546875\n",
            "Epochs(73/100) & Loss 281.2577819824219\n",
            "Epochs(74/100) & Loss 278.7376708984375\n",
            "Epochs(75/100) & Loss 276.24749755859375\n",
            "Epochs(76/100) & Loss 273.786865234375\n",
            "Epochs(77/100) & Loss 271.3553466796875\n",
            "Epochs(78/100) & Loss 268.9527282714844\n",
            "Epochs(79/100) & Loss 266.5785217285156\n",
            "Epochs(80/100) & Loss 264.23236083984375\n",
            "Epochs(81/100) & Loss 261.91400146484375\n",
            "Epochs(82/100) & Loss 259.6228942871094\n",
            "Epochs(83/100) & Loss 257.3589172363281\n",
            "Epochs(84/100) & Loss 255.12173461914062\n",
            "Epochs(85/100) & Loss 252.9107666015625\n",
            "Epochs(86/100) & Loss 250.72598266601562\n",
            "Epochs(87/100) & Loss 248.5666961669922\n",
            "Epochs(88/100) & Loss 246.4330596923828\n",
            "Epochs(89/100) & Loss 244.3243865966797\n",
            "Epochs(90/100) & Loss 242.2405242919922\n",
            "Epochs(91/100) & Loss 240.18112182617188\n",
            "Epochs(92/100) & Loss 238.1457977294922\n",
            "Epochs(93/100) & Loss 236.13436889648438\n",
            "Epochs(94/100) & Loss 234.14645385742188\n",
            "Epochs(95/100) & Loss 232.1818389892578\n",
            "Epochs(96/100) & Loss 230.24020385742188\n",
            "Epochs(97/100) & Loss 228.3213348388672\n",
            "Epochs(98/100) & Loss 226.4247589111328\n",
            "Epochs(99/100) & Loss 224.5502471923828\n",
            "Epochs(100/100) & Loss 222.69772338867188\n",
            "Epochs(101/100) & Loss 220.86666870117188\n",
            "Epochs(102/100) & Loss 219.0570068359375\n",
            "Epochs(103/100) & Loss 217.26828002929688\n",
            "Epochs(104/100) & Loss 215.50039672851562\n",
            "Epochs(105/100) & Loss 213.7529754638672\n",
            "Epochs(106/100) & Loss 212.0259246826172\n",
            "Epochs(107/100) & Loss 210.3186798095703\n",
            "Epochs(108/100) & Loss 208.63137817382812\n",
            "Epochs(109/100) & Loss 206.963623046875\n",
            "Epochs(110/100) & Loss 205.3148956298828\n",
            "Epochs(111/100) & Loss 203.6854248046875\n",
            "Epochs(112/100) & Loss 202.07464599609375\n",
            "Epochs(113/100) & Loss 200.48251342773438\n",
            "Epochs(114/100) & Loss 198.90850830078125\n",
            "Epochs(115/100) & Loss 197.35287475585938\n",
            "Epochs(116/100) & Loss 195.81488037109375\n",
            "Epochs(117/100) & Loss 194.2946319580078\n",
            "Epochs(118/100) & Loss 192.79183959960938\n",
            "Epochs(119/100) & Loss 191.3062286376953\n",
            "Epochs(120/100) & Loss 189.837646484375\n",
            "Epochs(121/100) & Loss 188.38589477539062\n",
            "Epochs(122/100) & Loss 186.95053100585938\n",
            "Epochs(123/100) & Loss 185.5317840576172\n",
            "Epochs(124/100) & Loss 184.12904357910156\n",
            "Epochs(125/100) & Loss 182.7423553466797\n",
            "Epochs(126/100) & Loss 181.37144470214844\n",
            "Epochs(127/100) & Loss 180.0160369873047\n",
            "Epochs(128/100) & Loss 178.67611694335938\n",
            "Epochs(129/100) & Loss 177.351318359375\n",
            "Epochs(130/100) & Loss 176.04151916503906\n",
            "Epochs(131/100) & Loss 174.7465057373047\n",
            "Epochs(132/100) & Loss 173.4662628173828\n",
            "Epochs(133/100) & Loss 172.2003631591797\n",
            "Epochs(134/100) & Loss 170.94869995117188\n",
            "Epochs(135/100) & Loss 169.71116638183594\n",
            "Epochs(136/100) & Loss 168.48760986328125\n",
            "Epochs(137/100) & Loss 167.2777862548828\n",
            "Epochs(138/100) & Loss 166.08148193359375\n",
            "Epochs(139/100) & Loss 164.898681640625\n",
            "Epochs(140/100) & Loss 163.72903442382812\n",
            "Epochs(141/100) & Loss 162.5724639892578\n",
            "Epochs(142/100) & Loss 161.42880249023438\n",
            "Epochs(143/100) & Loss 160.29794311523438\n",
            "Epochs(144/100) & Loss 159.1797637939453\n",
            "Epochs(145/100) & Loss 158.07388305664062\n",
            "Epochs(146/100) & Loss 156.9803466796875\n",
            "Epochs(147/100) & Loss 155.89895629882812\n",
            "Epochs(148/100) & Loss 154.8295440673828\n",
            "Epochs(149/100) & Loss 153.77200317382812\n",
            "Epochs(150/100) & Loss 152.72607421875\n",
            "Epochs(151/100) & Loss 151.69174194335938\n",
            "Epochs(152/100) & Loss 150.6687774658203\n",
            "Epochs(153/100) & Loss 149.65711975097656\n",
            "Epochs(154/100) & Loss 148.6565704345703\n",
            "Epochs(155/100) & Loss 147.6670684814453\n",
            "Epochs(156/100) & Loss 146.68838500976562\n",
            "Epochs(157/100) & Loss 145.72042846679688\n",
            "Epochs(158/100) & Loss 144.7629852294922\n",
            "Epochs(159/100) & Loss 143.81602478027344\n",
            "Epochs(160/100) & Loss 142.87936401367188\n",
            "Epochs(161/100) & Loss 141.9530487060547\n",
            "Epochs(162/100) & Loss 141.0366668701172\n",
            "Epochs(163/100) & Loss 140.13031005859375\n",
            "Epochs(164/100) & Loss 139.2336883544922\n",
            "Epochs(165/100) & Loss 138.34677124023438\n",
            "Epochs(166/100) & Loss 137.46957397460938\n",
            "Epochs(167/100) & Loss 136.60177612304688\n",
            "Epochs(168/100) & Loss 135.7432403564453\n",
            "Epochs(169/100) & Loss 134.89407348632812\n",
            "Epochs(170/100) & Loss 134.05393981933594\n",
            "Epochs(171/100) & Loss 133.2228240966797\n",
            "Epochs(172/100) & Loss 132.4007110595703\n",
            "Epochs(173/100) & Loss 131.58724975585938\n",
            "Epochs(174/100) & Loss 130.78250122070312\n",
            "Epochs(175/100) & Loss 129.98635864257812\n",
            "Epochs(176/100) & Loss 129.19866943359375\n",
            "Epochs(177/100) & Loss 128.41934204101562\n",
            "Epochs(178/100) & Loss 127.64830017089844\n",
            "Epochs(179/100) & Loss 126.88542175292969\n",
            "Epochs(180/100) & Loss 126.1306381225586\n",
            "Epochs(181/100) & Loss 125.38372802734375\n",
            "Epochs(182/100) & Loss 124.64472961425781\n",
            "Epochs(183/100) & Loss 123.9135513305664\n",
            "Epochs(184/100) & Loss 123.1899185180664\n",
            "Epochs(185/100) & Loss 122.4739761352539\n",
            "Epochs(186/100) & Loss 121.76544189453125\n",
            "Epochs(187/100) & Loss 121.06440734863281\n",
            "Epochs(188/100) & Loss 120.3705825805664\n",
            "Epochs(189/100) & Loss 119.68403625488281\n",
            "Epochs(190/100) & Loss 119.00457763671875\n",
            "Epochs(191/100) & Loss 118.33211517333984\n",
            "Epochs(192/100) & Loss 117.66668701171875\n",
            "Epochs(193/100) & Loss 117.00809478759766\n",
            "Epochs(194/100) & Loss 116.35628509521484\n",
            "Epochs(195/100) & Loss 115.71122741699219\n",
            "Epochs(196/100) & Loss 115.0727310180664\n",
            "Epochs(197/100) & Loss 114.4407730102539\n",
            "Epochs(198/100) & Loss 113.81534576416016\n",
            "Epochs(199/100) & Loss 113.19620513916016\n",
            "Epochs(200/100) & Loss 112.58341217041016\n",
            "Epochs(201/100) & Loss 111.97682189941406\n",
            "Epochs(202/100) & Loss 111.37644958496094\n",
            "Epochs(203/100) & Loss 110.78206634521484\n",
            "Epochs(204/100) & Loss 110.19376373291016\n",
            "Epochs(205/100) & Loss 109.611328125\n",
            "Epochs(206/100) & Loss 109.03483581542969\n",
            "Epochs(207/100) & Loss 108.4639892578125\n",
            "Epochs(208/100) & Loss 107.89898681640625\n",
            "Epochs(209/100) & Loss 107.339599609375\n",
            "Epochs(210/100) & Loss 106.7857437133789\n",
            "Epochs(211/100) & Loss 106.2374267578125\n",
            "Epochs(212/100) & Loss 105.69459533691406\n",
            "Epochs(213/100) & Loss 105.15705871582031\n",
            "Epochs(214/100) & Loss 104.62492370605469\n",
            "Epochs(215/100) & Loss 104.09791564941406\n",
            "Epochs(216/100) & Loss 103.57615661621094\n",
            "Epochs(217/100) & Loss 103.0595474243164\n",
            "Epochs(218/100) & Loss 102.5479965209961\n",
            "Epochs(219/100) & Loss 102.04142761230469\n",
            "Epochs(220/100) & Loss 101.53981018066406\n",
            "Epochs(221/100) & Loss 101.0429916381836\n",
            "Epochs(222/100) & Loss 100.55106353759766\n",
            "Epochs(223/100) & Loss 100.06391906738281\n",
            "Epochs(224/100) & Loss 99.58143615722656\n",
            "Epochs(225/100) & Loss 99.10362243652344\n",
            "Epochs(226/100) & Loss 98.63044738769531\n",
            "Epochs(227/100) & Loss 98.16175842285156\n",
            "Epochs(228/100) & Loss 97.6974868774414\n",
            "Epochs(229/100) & Loss 97.23768615722656\n",
            "Epochs(230/100) & Loss 96.78230285644531\n",
            "Epochs(231/100) & Loss 96.33122253417969\n",
            "Epochs(232/100) & Loss 95.88436126708984\n",
            "Epochs(233/100) & Loss 95.4417953491211\n",
            "Epochs(234/100) & Loss 95.00334167480469\n",
            "Epochs(235/100) & Loss 94.56900024414062\n",
            "Epochs(236/100) & Loss 94.13876342773438\n",
            "Epochs(237/100) & Loss 93.71250915527344\n",
            "Epochs(238/100) & Loss 93.29029083251953\n",
            "Epochs(239/100) & Loss 92.8719253540039\n",
            "Epochs(240/100) & Loss 92.45742797851562\n",
            "Epochs(241/100) & Loss 92.04688262939453\n",
            "Epochs(242/100) & Loss 91.64000701904297\n",
            "Epochs(243/100) & Loss 91.2369155883789\n",
            "Epochs(244/100) & Loss 90.83747863769531\n",
            "Epochs(245/100) & Loss 90.44176483154297\n",
            "Epochs(246/100) & Loss 90.04963684082031\n",
            "Epochs(247/100) & Loss 89.6610107421875\n",
            "Epochs(248/100) & Loss 89.27595520019531\n",
            "Epochs(249/100) & Loss 88.8944091796875\n",
            "Epochs(250/100) & Loss 88.51627349853516\n",
            "Epochs(251/100) & Loss 88.14149475097656\n",
            "Epochs(252/100) & Loss 87.77017211914062\n",
            "Epochs(253/100) & Loss 87.40204620361328\n",
            "Epochs(254/100) & Loss 87.03729248046875\n",
            "Epochs(255/100) & Loss 86.6757583618164\n",
            "Epochs(256/100) & Loss 86.31742095947266\n",
            "Epochs(257/100) & Loss 85.96220397949219\n",
            "Epochs(258/100) & Loss 85.61019134521484\n",
            "Epochs(259/100) & Loss 85.26119232177734\n",
            "Epochs(260/100) & Loss 84.91523742675781\n",
            "Epochs(261/100) & Loss 84.57238006591797\n",
            "Epochs(262/100) & Loss 84.23245239257812\n",
            "Epochs(263/100) & Loss 83.89546966552734\n",
            "Epochs(264/100) & Loss 83.56149291992188\n",
            "Epochs(265/100) & Loss 83.2302474975586\n",
            "Epochs(266/100) & Loss 82.90189361572266\n",
            "Epochs(267/100) & Loss 82.57644653320312\n",
            "Epochs(268/100) & Loss 82.25360107421875\n",
            "Epochs(269/100) & Loss 81.93365478515625\n",
            "Epochs(270/100) & Loss 81.61631774902344\n",
            "Epochs(271/100) & Loss 81.30171966552734\n",
            "Epochs(272/100) & Loss 80.98978424072266\n",
            "Epochs(273/100) & Loss 80.68040466308594\n",
            "Epochs(274/100) & Loss 80.37361907958984\n",
            "Epochs(275/100) & Loss 80.06944274902344\n",
            "Epochs(276/100) & Loss 79.76778411865234\n",
            "Epochs(277/100) & Loss 79.46864318847656\n",
            "Epochs(278/100) & Loss 79.17188262939453\n",
            "Epochs(279/100) & Loss 78.87767791748047\n",
            "Epochs(280/100) & Loss 78.58583068847656\n",
            "Epochs(281/100) & Loss 78.29630279541016\n",
            "Epochs(282/100) & Loss 78.00922393798828\n",
            "Epochs(283/100) & Loss 77.7244644165039\n",
            "Epochs(284/100) & Loss 77.44194030761719\n",
            "Epochs(285/100) & Loss 77.16172790527344\n",
            "Epochs(286/100) & Loss 76.88379669189453\n",
            "Epochs(287/100) & Loss 76.60808563232422\n",
            "Epochs(288/100) & Loss 76.33451843261719\n",
            "Epochs(289/100) & Loss 76.06315612792969\n",
            "Epochs(290/100) & Loss 75.79396057128906\n",
            "Epochs(291/100) & Loss 75.52681732177734\n",
            "Epochs(292/100) & Loss 75.26188659667969\n",
            "Epochs(293/100) & Loss 74.99887084960938\n",
            "Epochs(294/100) & Loss 74.73802185058594\n",
            "Epochs(295/100) & Loss 74.47917938232422\n",
            "Epochs(296/100) & Loss 74.22238159179688\n",
            "Epochs(297/100) & Loss 73.96748352050781\n",
            "Epochs(298/100) & Loss 73.71453857421875\n",
            "Epochs(299/100) & Loss 73.46360778808594\n",
            "Epochs(300/100) & Loss 73.21453857421875\n",
            "Epochs(301/100) & Loss 72.96733093261719\n",
            "Epochs(302/100) & Loss 72.7220230102539\n",
            "Epochs(303/100) & Loss 72.47864532470703\n",
            "Epochs(304/100) & Loss 72.23697662353516\n",
            "Epochs(305/100) & Loss 71.9971923828125\n",
            "Epochs(306/100) & Loss 71.7591552734375\n",
            "Epochs(307/100) & Loss 71.52284240722656\n",
            "Epochs(308/100) & Loss 71.28832244873047\n",
            "Epochs(309/100) & Loss 71.05558013916016\n",
            "Epochs(310/100) & Loss 70.82441711425781\n",
            "Epochs(311/100) & Loss 70.59504699707031\n",
            "Epochs(312/100) & Loss 70.3673324584961\n",
            "Epochs(313/100) & Loss 70.14120483398438\n",
            "Epochs(314/100) & Loss 69.91680145263672\n",
            "Epochs(315/100) & Loss 69.69397735595703\n",
            "Epochs(316/100) & Loss 69.47269439697266\n",
            "Epochs(317/100) & Loss 69.2530517578125\n",
            "Epochs(318/100) & Loss 69.03495788574219\n",
            "Epochs(319/100) & Loss 68.81837463378906\n",
            "Epochs(320/100) & Loss 68.60334777832031\n",
            "Epochs(321/100) & Loss 68.38975524902344\n",
            "Epochs(322/100) & Loss 68.17774200439453\n",
            "Epochs(323/100) & Loss 67.96720886230469\n",
            "Epochs(324/100) & Loss 67.75807189941406\n",
            "Epochs(325/100) & Loss 67.55038452148438\n",
            "Epochs(326/100) & Loss 67.34413146972656\n",
            "Epochs(327/100) & Loss 67.13929748535156\n",
            "Epochs(328/100) & Loss 66.93587493896484\n",
            "Epochs(329/100) & Loss 66.7337875366211\n",
            "Epochs(330/100) & Loss 66.53306579589844\n",
            "Epochs(331/100) & Loss 66.33370971679688\n",
            "Epochs(332/100) & Loss 66.13574981689453\n",
            "Epochs(333/100) & Loss 65.93909454345703\n",
            "Epochs(334/100) & Loss 65.74364471435547\n",
            "Epochs(335/100) & Loss 65.54954528808594\n",
            "Epochs(336/100) & Loss 65.35672760009766\n",
            "Epochs(337/100) & Loss 65.16519165039062\n",
            "Epochs(338/100) & Loss 64.9748764038086\n",
            "Epochs(339/100) & Loss 64.78580474853516\n",
            "Epochs(340/100) & Loss 64.59794616699219\n",
            "Epochs(341/100) & Loss 64.4112777709961\n",
            "Epochs(342/100) & Loss 64.22581481933594\n",
            "Epochs(343/100) & Loss 64.04154968261719\n",
            "Epochs(344/100) & Loss 63.858436584472656\n",
            "Epochs(345/100) & Loss 63.676475524902344\n",
            "Epochs(346/100) & Loss 63.4957275390625\n",
            "Epochs(347/100) & Loss 63.31605911254883\n",
            "Epochs(348/100) & Loss 63.13750457763672\n",
            "Epochs(349/100) & Loss 62.96007537841797\n",
            "Epochs(350/100) & Loss 62.783714294433594\n",
            "Epochs(351/100) & Loss 62.608497619628906\n",
            "Epochs(352/100) & Loss 62.4343147277832\n",
            "Epochs(353/100) & Loss 62.26115036010742\n",
            "Epochs(354/100) & Loss 62.08906936645508\n",
            "Epochs(355/100) & Loss 61.918060302734375\n",
            "Epochs(356/100) & Loss 61.74810791015625\n",
            "Epochs(357/100) & Loss 61.5791015625\n",
            "Epochs(358/100) & Loss 61.4111213684082\n",
            "Epochs(359/100) & Loss 61.244117736816406\n",
            "Epochs(360/100) & Loss 61.07819366455078\n",
            "Epochs(361/100) & Loss 60.91314697265625\n",
            "Epochs(362/100) & Loss 60.749046325683594\n",
            "Epochs(363/100) & Loss 60.58599090576172\n",
            "Epochs(364/100) & Loss 60.42378616333008\n",
            "Epochs(365/100) & Loss 60.26258087158203\n",
            "Epochs(366/100) & Loss 60.102256774902344\n",
            "Epochs(367/100) & Loss 59.94292068481445\n",
            "Epochs(368/100) & Loss 59.78443145751953\n",
            "Epochs(369/100) & Loss 59.62688064575195\n",
            "Epochs(370/100) & Loss 59.47017288208008\n",
            "Epochs(371/100) & Loss 59.31439971923828\n",
            "Epochs(372/100) & Loss 59.159385681152344\n",
            "Epochs(373/100) & Loss 59.00532913208008\n",
            "Epochs(374/100) & Loss 58.85212326049805\n",
            "Epochs(375/100) & Loss 58.69969940185547\n",
            "Epochs(376/100) & Loss 58.548126220703125\n",
            "Epochs(377/100) & Loss 58.39744186401367\n",
            "Epochs(378/100) & Loss 58.247528076171875\n",
            "Epochs(379/100) & Loss 58.09839630126953\n",
            "Epochs(380/100) & Loss 57.95009231567383\n",
            "Epochs(381/100) & Loss 57.802574157714844\n",
            "Epochs(382/100) & Loss 57.655860900878906\n",
            "Epochs(383/100) & Loss 57.50992965698242\n",
            "Epochs(384/100) & Loss 57.36475372314453\n",
            "Epochs(385/100) & Loss 57.2203254699707\n",
            "Epochs(386/100) & Loss 57.07670211791992\n",
            "Epochs(387/100) & Loss 56.9337272644043\n",
            "Epochs(388/100) & Loss 56.79157257080078\n",
            "Epochs(389/100) & Loss 56.650123596191406\n",
            "Epochs(390/100) & Loss 56.50941848754883\n",
            "Epochs(391/100) & Loss 56.369407653808594\n",
            "Epochs(392/100) & Loss 56.230072021484375\n",
            "Epochs(393/100) & Loss 56.0915641784668\n",
            "Epochs(394/100) & Loss 55.95363235473633\n",
            "Epochs(395/100) & Loss 55.81641387939453\n",
            "Epochs(396/100) & Loss 55.67991256713867\n",
            "Epochs(397/100) & Loss 55.544029235839844\n",
            "Epochs(398/100) & Loss 55.408897399902344\n",
            "Epochs(399/100) & Loss 55.27433395385742\n"
          ]
        }
      ],
      "source": [
        "# Training for multiple epochs\n",
        "for i in range(400):\n",
        "  preds = model(inputs)\n",
        "  loss = MSE(target, preds)\n",
        "  loss.backward()\n",
        "\n",
        "  with torch.no_grad():\n",
        "     w -= w.grad * 1e-5 # learning rate\n",
        "     b -= b.grad * 1e-5\n",
        "     w.grad.zero_()\n",
        "     b.grad.zero_()\n",
        "  print(f\"Epochs({i}/{100}) & Loss {loss}\")"
      ]
    },
    {
      "cell_type": "code",
      "execution_count": 46,
      "metadata": {
        "colab": {
          "base_uri": "https://localhost:8080/"
        },
        "id": "rShT9Hmj6XtR",
        "outputId": "3a164ba1-0781-4951-fab8-71d084c1ba62"
      },
      "outputs": [
        {
          "name": "stdout",
          "output_type": "stream",
          "text": [
            "tensor(55.1405, grad_fn=<DivBackward0>)\n"
          ]
        }
      ],
      "source": [
        "preds = model(inputs)\n",
        "loss = MSE(target, preds)\n",
        "print(loss)"
      ]
    },
    {
      "cell_type": "code",
      "execution_count": 47,
      "metadata": {
        "colab": {
          "base_uri": "https://localhost:8080/"
        },
        "id": "cezq8zGu6Xqs",
        "outputId": "a4ef29e0-7465-4f20-cd21-ebe617907f6f"
      },
      "outputs": [
        {
          "data": {
            "text/plain": [
              "7.425666434952073"
            ]
          },
          "execution_count": 47,
          "metadata": {},
          "output_type": "execute_result"
        }
      ],
      "source": [
        "from math import sqrt\n",
        "sqrt(loss)"
      ]
    },
    {
      "cell_type": "code",
      "execution_count": 48,
      "metadata": {
        "colab": {
          "base_uri": "https://localhost:8080/"
        },
        "id": "JvsKGPfB6XoH",
        "outputId": "31277d35-68f3-4cbe-e73a-74236e68641f"
      },
      "outputs": [
        {
          "data": {
            "text/plain": [
              "tensor([[ 56.9588,  70.9809],\n",
              "        [ 89.6237, 100.1384],\n",
              "        [102.1593, 133.0877],\n",
              "        [ 19.8282,  40.8719],\n",
              "        [115.7199, 115.9517]], grad_fn=<AddBackward0>)"
            ]
          },
          "execution_count": 48,
          "metadata": {},
          "output_type": "execute_result"
        }
      ],
      "source": [
        "preds"
      ]
    },
    {
      "cell_type": "code",
      "execution_count": 49,
      "metadata": {
        "colab": {
          "base_uri": "https://localhost:8080/"
        },
        "id": "6U8284MJ6p5w",
        "outputId": "53914aca-0249-46b1-a9a7-745fba07c1ae"
      },
      "outputs": [
        {
          "data": {
            "text/plain": [
              "tensor([[ 56.,  70.],\n",
              "        [ 81., 101.],\n",
              "        [119., 133.],\n",
              "        [ 22.,  37.],\n",
              "        [103., 119.]])"
            ]
          },
          "execution_count": 49,
          "metadata": {},
          "output_type": "execute_result"
        }
      ],
      "source": [
        "target"
      ]
    },
    {
      "cell_type": "markdown",
      "metadata": {},
      "source": [
        "## You can see they are almost close earch other"
      ]
    },
    {
      "cell_type": "code",
      "execution_count": null,
      "metadata": {
        "id": "UHrHiAXZ6pzu"
      },
      "outputs": [],
      "source": []
    },
    {
      "cell_type": "markdown",
      "metadata": {
        "id": "6-OUXNOx3CPg"
      },
      "source": [
        "## Neural Network using Pytorch"
      ]
    },
    {
      "cell_type": "code",
      "execution_count": 51,
      "metadata": {
        "colab": {
          "base_uri": "https://localhost:8080/"
        },
        "id": "SHo8uHimkfNH",
        "outputId": "f417eca2-1271-4725-d16c-b06daef05340"
      },
      "outputs": [
        {
          "name": "stdout",
          "output_type": "stream",
          "text": [
            "Sun Sep 24 18:42:15 2023       \n",
            "+---------------------------------------------------------------------------------------+\n",
            "| NVIDIA-SMI 532.09                 Driver Version: 532.09       CUDA Version: 12.1     |\n",
            "|-----------------------------------------+----------------------+----------------------+\n",
            "| GPU  Name                      TCC/WDDM | Bus-Id        Disp.A | Volatile Uncorr. ECC |\n",
            "| Fan  Temp  Perf            Pwr:Usage/Cap|         Memory-Usage | GPU-Util  Compute M. |\n",
            "|                                         |                      |               MIG M. |\n",
            "|=========================================+======================+======================|\n",
            "|   0  NVIDIA GeForce MX350          WDDM | 00000000:01:00.0 Off |                  N/A |\n",
            "| N/A   57C    P0               N/A /  N/A|      0MiB /  2048MiB |      1%      Default |\n",
            "|                                         |                      |                  N/A |\n",
            "+-----------------------------------------+----------------------+----------------------+\n",
            "                                                                                         \n",
            "+---------------------------------------------------------------------------------------+\n",
            "| Processes:                                                                            |\n",
            "|  GPU   GI   CI        PID   Type   Process name                            GPU Memory |\n",
            "|        ID   ID                                                             Usage      |\n",
            "|=======================================================================================|\n",
            "|  No running processes found                                                           |\n",
            "+---------------------------------------------------------------------------------------+\n"
          ]
        }
      ],
      "source": [
        "# To check GPU\n",
        "!nvidia-smi"
      ]
    },
    {
      "cell_type": "code",
      "execution_count": 52,
      "metadata": {
        "id": "jv4zRj3u3LtI"
      },
      "outputs": [],
      "source": [
        "import torch\n",
        "from torch import nn\n",
        "from torch.utils.data import DataLoader\n",
        "from torchvision import datasets\n",
        "from torchvision.transforms import ToTensor, Lambda, Compose\n",
        "import matplotlib.pyplot as plt"
      ]
    },
    {
      "cell_type": "code",
      "execution_count": 53,
      "metadata": {
        "colab": {
          "base_uri": "https://localhost:8080/"
        },
        "id": "Swc3R2Ki3OSI",
        "outputId": "084bc77d-4b4c-40ce-c74a-f139ec81d50b"
      },
      "outputs": [
        {
          "name": "stdout",
          "output_type": "stream",
          "text": [
            "Downloading http://fashion-mnist.s3-website.eu-central-1.amazonaws.com/train-images-idx3-ubyte.gz\n",
            "Downloading http://fashion-mnist.s3-website.eu-central-1.amazonaws.com/train-images-idx3-ubyte.gz to data\\FashionMNIST\\raw\\train-images-idx3-ubyte.gz\n"
          ]
        },
        {
          "name": "stderr",
          "output_type": "stream",
          "text": [
            "100%|██████████| 26421880/26421880 [00:05<00:00, 4547298.28it/s]\n"
          ]
        },
        {
          "name": "stdout",
          "output_type": "stream",
          "text": [
            "Extracting data\\FashionMNIST\\raw\\train-images-idx3-ubyte.gz to data\\FashionMNIST\\raw\n",
            "\n",
            "Downloading http://fashion-mnist.s3-website.eu-central-1.amazonaws.com/train-labels-idx1-ubyte.gz\n",
            "Downloading http://fashion-mnist.s3-website.eu-central-1.amazonaws.com/train-labels-idx1-ubyte.gz to data\\FashionMNIST\\raw\\train-labels-idx1-ubyte.gz\n"
          ]
        },
        {
          "name": "stderr",
          "output_type": "stream",
          "text": [
            "100%|██████████| 29515/29515 [00:00<00:00, 161667.63it/s]\n"
          ]
        },
        {
          "name": "stdout",
          "output_type": "stream",
          "text": [
            "Extracting data\\FashionMNIST\\raw\\train-labels-idx1-ubyte.gz to data\\FashionMNIST\\raw\n",
            "\n",
            "Downloading http://fashion-mnist.s3-website.eu-central-1.amazonaws.com/t10k-images-idx3-ubyte.gz\n",
            "Downloading http://fashion-mnist.s3-website.eu-central-1.amazonaws.com/t10k-images-idx3-ubyte.gz to data\\FashionMNIST\\raw\\t10k-images-idx3-ubyte.gz\n"
          ]
        },
        {
          "name": "stderr",
          "output_type": "stream",
          "text": [
            "100%|██████████| 4422102/4422102 [00:01<00:00, 3149808.87it/s]\n"
          ]
        },
        {
          "name": "stdout",
          "output_type": "stream",
          "text": [
            "Extracting data\\FashionMNIST\\raw\\t10k-images-idx3-ubyte.gz to data\\FashionMNIST\\raw\n",
            "\n",
            "Downloading http://fashion-mnist.s3-website.eu-central-1.amazonaws.com/t10k-labels-idx1-ubyte.gz\n",
            "Downloading http://fashion-mnist.s3-website.eu-central-1.amazonaws.com/t10k-labels-idx1-ubyte.gz to data\\FashionMNIST\\raw\\t10k-labels-idx1-ubyte.gz\n"
          ]
        },
        {
          "name": "stderr",
          "output_type": "stream",
          "text": [
            "100%|██████████| 5148/5148 [00:00<?, ?it/s]"
          ]
        },
        {
          "name": "stdout",
          "output_type": "stream",
          "text": [
            "Extracting data\\FashionMNIST\\raw\\t10k-labels-idx1-ubyte.gz to data\\FashionMNIST\\raw\n",
            "\n"
          ]
        },
        {
          "name": "stderr",
          "output_type": "stream",
          "text": [
            "\n"
          ]
        }
      ],
      "source": [
        "# Download training data from open datasets.\n",
        "training_data = datasets.FashionMNIST(\n",
        "    root=\"data\",\n",
        "    train=True,\n",
        "    download=True,\n",
        "    transform=ToTensor(),\n",
        ")\n",
        "\n",
        "# Download test data from open datasets.\n",
        "test_data = datasets.FashionMNIST(\n",
        "    root=\"data\",\n",
        "    train=False,\n",
        "    download=True,\n",
        "    transform=ToTensor(),\n",
        ")"
      ]
    },
    {
      "cell_type": "code",
      "execution_count": 54,
      "metadata": {
        "colab": {
          "base_uri": "https://localhost:8080/"
        },
        "id": "Cd71u_LZ3QMo",
        "outputId": "cadc622c-044e-4923-bc18-1e2b6e0c9ae2"
      },
      "outputs": [
        {
          "data": {
            "text/plain": [
              "torchvision.datasets.mnist.FashionMNIST"
            ]
          },
          "execution_count": 54,
          "metadata": {},
          "output_type": "execute_result"
        }
      ],
      "source": [
        "type(training_data)"
      ]
    },
    {
      "cell_type": "code",
      "execution_count": 55,
      "metadata": {
        "colab": {
          "base_uri": "https://localhost:8080/"
        },
        "id": "_z8xEoct3Taa",
        "outputId": "e5774145-9510-40d5-8322-7b24d74aab77"
      },
      "outputs": [
        {
          "name": "stdout",
          "output_type": "stream",
          "text": [
            "Shape of X [N, C, H, W]:  torch.Size([64, 1, 28, 28])\n",
            "Shape of y:  torch.Size([64]) torch.int64\n"
          ]
        }
      ],
      "source": [
        "batch_size = 64\n",
        "\n",
        "# Create data loaders.\n",
        "train_dataloader = DataLoader(training_data, batch_size=batch_size)\n",
        "test_dataloader = DataLoader(test_data, batch_size=batch_size)\n",
        "\n",
        "for X, y in test_dataloader:\n",
        "    print(\"Shape of X [N, C, H, W]: \", X.shape)\n",
        "    print(\"Shape of y: \", y.shape, y.dtype)\n",
        "    # print(X)\n",
        "    # print(y)\n",
        "    break"
      ]
    },
    {
      "cell_type": "code",
      "execution_count": 56,
      "metadata": {
        "colab": {
          "base_uri": "https://localhost:8080/"
        },
        "id": "Fx_2V-C83aUS",
        "outputId": "e0fde571-427a-4998-f6db-72467f034eab"
      },
      "outputs": [
        {
          "name": "stdout",
          "output_type": "stream",
          "text": [
            "Using cpu device\n"
          ]
        }
      ],
      "source": [
        "# Get cpu or gpu device for training.\n",
        "device = \"cuda\" if torch.cuda.is_available() else \"cpu\"\n",
        "print(f\"Using {device} device\")"
      ]
    },
    {
      "cell_type": "code",
      "execution_count": 57,
      "metadata": {
        "colab": {
          "base_uri": "https://localhost:8080/"
        },
        "id": "ueZJS_-L3VQ4",
        "outputId": "92675220-831c-40b1-aed1-44c1c7503842"
      },
      "outputs": [
        {
          "name": "stdout",
          "output_type": "stream",
          "text": [
            "NeuralNetwork(\n",
            "  (flatten): Flatten(start_dim=1, end_dim=-1)\n",
            "  (linear_relu_stack): Sequential(\n",
            "    (0): Linear(in_features=784, out_features=512, bias=True)\n",
            "    (1): ReLU()\n",
            "    (2): Linear(in_features=512, out_features=512, bias=True)\n",
            "    (3): ReLU()\n",
            "    (4): Linear(in_features=512, out_features=10, bias=True)\n",
            "  )\n",
            ")\n"
          ]
        }
      ],
      "source": [
        "# Define model\n",
        "class NeuralNetwork(nn.Module):\n",
        "    def __init__(self):\n",
        "        super(NeuralNetwork, self).__init__()\n",
        "        self.flatten = nn.Flatten()\n",
        "        self.linear_relu_stack = nn.Sequential(\n",
        "            nn.Linear(28*28, 512),\n",
        "            nn.ReLU(),\n",
        "            nn.Linear(512, 512),\n",
        "            nn.ReLU(),\n",
        "            nn.Linear(512, 10)\n",
        "        )\n",
        "\n",
        "    def forward(self, x):\n",
        "        x = self.flatten(x)\n",
        "        logits = self.linear_relu_stack(x)\n",
        "        return logits\n",
        "\n",
        "model = NeuralNetwork().to(device)\n",
        "print(model)"
      ]
    },
    {
      "cell_type": "code",
      "execution_count": 58,
      "metadata": {
        "id": "1SEEk4fz3ey2"
      },
      "outputs": [],
      "source": [
        "loss_fn = nn.CrossEntropyLoss()\n",
        "optimizer = torch.optim.SGD(model.parameters(), lr=1e-3)"
      ]
    },
    {
      "cell_type": "code",
      "execution_count": 59,
      "metadata": {
        "id": "tryz3wtG3ewp"
      },
      "outputs": [],
      "source": [
        "def train(dataloader, model, loss_fn, optimizer):\n",
        "    size = len(dataloader.dataset)\n",
        "    model.train()\n",
        "    for batch, (X, y) in enumerate(dataloader):\n",
        "        X, y = X.to(device), y.to(device)\n",
        "\n",
        "        # Compute prediction error\n",
        "        pred = model(X)\n",
        "        loss = loss_fn(pred, y)\n",
        "\n",
        "        # Backpropagation\n",
        "        optimizer.zero_grad()\n",
        "        loss.backward()\n",
        "        optimizer.step()\n",
        "\n",
        "        if batch % 100 == 0:\n",
        "            loss, current = loss.item(), batch * len(X)\n",
        "            print(f\"loss: {loss:>7f}  [{current:>5d}/{size:>5d}]\")"
      ]
    },
    {
      "cell_type": "code",
      "execution_count": 60,
      "metadata": {
        "id": "Z1C_N3if3j-j"
      },
      "outputs": [],
      "source": [
        "def test(dataloader, model, loss_fn):\n",
        "    size = len(dataloader.dataset)\n",
        "    num_batches = len(dataloader)\n",
        "    model.eval()\n",
        "    test_loss, correct = 0, 0\n",
        "    with torch.no_grad():\n",
        "        for X, y in dataloader:\n",
        "            X, y = X.to(device), y.to(device)\n",
        "            pred = model(X)\n",
        "            test_loss += loss_fn(pred, y).item()\n",
        "            correct += (pred.argmax(1) == y).type(torch.float).sum().item()\n",
        "    test_loss /= num_batches\n",
        "    correct /= size\n",
        "    print(f\"Test Error: \\n Accuracy: {(100*correct):>0.1f}%, Avg loss: {test_loss:>8f} \\n\")"
      ]
    },
    {
      "cell_type": "code",
      "execution_count": 61,
      "metadata": {
        "colab": {
          "base_uri": "https://localhost:8080/"
        },
        "id": "2UxIUc-Y3mSp",
        "outputId": "1803e0d5-a1d4-47a5-abe7-9328599609da"
      },
      "outputs": [
        {
          "name": "stdout",
          "output_type": "stream",
          "text": [
            "Epoch 1\n",
            "-------------------------------\n",
            "loss: 2.315239  [    0/60000]\n",
            "loss: 2.305726  [ 6400/60000]\n",
            "loss: 2.285659  [12800/60000]\n",
            "loss: 2.280627  [19200/60000]\n",
            "loss: 2.253712  [25600/60000]\n",
            "loss: 2.237138  [32000/60000]\n",
            "loss: 2.239306  [38400/60000]\n",
            "loss: 2.214569  [44800/60000]\n",
            "loss: 2.207996  [51200/60000]\n",
            "loss: 2.180122  [57600/60000]\n",
            "Test Error: \n",
            " Accuracy: 40.7%, Avg loss: 2.178852 \n",
            "\n",
            "Epoch 2\n",
            "-------------------------------\n",
            "loss: 2.190621  [    0/60000]\n",
            "loss: 2.183629  [ 6400/60000]\n",
            "loss: 2.131313  [12800/60000]\n",
            "loss: 2.146767  [19200/60000]\n",
            "loss: 2.092904  [25600/60000]\n",
            "loss: 2.043941  [32000/60000]\n",
            "loss: 2.068369  [38400/60000]\n",
            "loss: 2.003367  [44800/60000]\n",
            "loss: 2.002184  [51200/60000]\n",
            "loss: 1.929129  [57600/60000]\n",
            "Test Error: \n",
            " Accuracy: 50.5%, Avg loss: 1.935736 \n",
            "\n",
            "Epoch 3\n",
            "-------------------------------\n",
            "loss: 1.968222  [    0/60000]\n",
            "loss: 1.942312  [ 6400/60000]\n",
            "loss: 1.835131  [12800/60000]\n",
            "loss: 1.872294  [19200/60000]\n",
            "loss: 1.757631  [25600/60000]\n",
            "loss: 1.703863  [32000/60000]\n",
            "loss: 1.725571  [38400/60000]\n",
            "loss: 1.629946  [44800/60000]\n",
            "loss: 1.649699  [51200/60000]\n",
            "loss: 1.542315  [57600/60000]\n",
            "Test Error: \n",
            " Accuracy: 59.0%, Avg loss: 1.564481 \n",
            "\n",
            "Epoch 4\n",
            "-------------------------------\n",
            "loss: 1.629753  [    0/60000]\n",
            "loss: 1.594248  [ 6400/60000]\n",
            "loss: 1.449201  [12800/60000]\n",
            "loss: 1.519906  [19200/60000]\n",
            "loss: 1.393091  [25600/60000]\n",
            "loss: 1.380694  [32000/60000]\n",
            "loss: 1.393212  [38400/60000]\n",
            "loss: 1.315332  [44800/60000]\n",
            "loss: 1.347693  [51200/60000]\n",
            "loss: 1.253684  [57600/60000]\n",
            "Test Error: \n",
            " Accuracy: 62.8%, Avg loss: 1.278809 \n",
            "\n",
            "Epoch 5\n",
            "-------------------------------\n",
            "loss: 1.359269  [    0/60000]\n",
            "loss: 1.335203  [ 6400/60000]\n",
            "loss: 1.172760  [12800/60000]\n",
            "loss: 1.281884  [19200/60000]\n",
            "loss: 1.153429  [25600/60000]\n",
            "loss: 1.172108  [32000/60000]\n",
            "loss: 1.190421  [38400/60000]\n",
            "loss: 1.123023  [44800/60000]\n",
            "loss: 1.161483  [51200/60000]\n",
            "loss: 1.088103  [57600/60000]\n",
            "Test Error: \n",
            " Accuracy: 64.4%, Avg loss: 1.104883 \n",
            "\n",
            "Done!\n"
          ]
        }
      ],
      "source": [
        "epochs = 5\n",
        "for t in range(epochs):\n",
        "    print(f\"Epoch {t+1}\\n-------------------------------\")\n",
        "    train(train_dataloader, model, loss_fn, optimizer)\n",
        "    test(test_dataloader, model, loss_fn)\n",
        "print(\"Done!\")"
      ]
    },
    {
      "cell_type": "code",
      "execution_count": 62,
      "metadata": {
        "colab": {
          "base_uri": "https://localhost:8080/"
        },
        "id": "mqdoWByK3oxh",
        "outputId": "f1255f2f-c5ad-4b1b-d64e-d21e91336804"
      },
      "outputs": [
        {
          "name": "stdout",
          "output_type": "stream",
          "text": [
            "Saved PyTorch Model State to model.pth\n"
          ]
        }
      ],
      "source": [
        "#save model\n",
        "torch.save(model.state_dict(), \"model.pth\")\n",
        "print(\"Saved PyTorch Model State to model.pth\")"
      ]
    },
    {
      "cell_type": "code",
      "execution_count": 63,
      "metadata": {
        "colab": {
          "base_uri": "https://localhost:8080/"
        },
        "id": "gB0EWHe24DXZ",
        "outputId": "b1cb826f-e321-4e10-f176-e761de2fc0ab"
      },
      "outputs": [
        {
          "data": {
            "text/plain": [
              "<All keys matched successfully>"
            ]
          },
          "execution_count": 63,
          "metadata": {},
          "output_type": "execute_result"
        }
      ],
      "source": [
        "#load model\n",
        "model = NeuralNetwork()\n",
        "model.load_state_dict(torch.load(\"model.pth\"))"
      ]
    },
    {
      "cell_type": "code",
      "execution_count": 64,
      "metadata": {
        "colab": {
          "base_uri": "https://localhost:8080/"
        },
        "id": "qRHA5ZZP4HEJ",
        "outputId": "fffed502-2856-4b61-a768-0b60617527ce"
      },
      "outputs": [
        {
          "name": "stdout",
          "output_type": "stream",
          "text": [
            "Predicted: \"Ankle boot\", Actual: \"Ankle boot\"\n"
          ]
        }
      ],
      "source": [
        "## Prediction\n",
        "\n",
        "classes = [\n",
        "    \"T-shirt/top\",\n",
        "    \"Trouser\",\n",
        "    \"Pullover\",\n",
        "    \"Dress\",\n",
        "    \"Coat\",\n",
        "    \"Sandal\",\n",
        "    \"Shirt\",\n",
        "    \"Sneaker\",\n",
        "    \"Bag\",\n",
        "    \"Ankle boot\",\n",
        "]\n",
        "\n",
        "model.eval()\n",
        "x, y = test_data[0][0], test_data[0][1]\n",
        "with torch.no_grad():\n",
        "    pred = model(x)\n",
        "    predicted, actual = classes[pred[0].argmax(0)], classes[y]\n",
        "    print(f'Predicted: \"{predicted}\", Actual: \"{actual}\"')"
      ]
    },
    {
      "cell_type": "code",
      "execution_count": null,
      "metadata": {
        "id": "7zvhooAy4KUJ"
      },
      "outputs": [],
      "source": []
    }
  ],
  "metadata": {
    "accelerator": "GPU",
    "colab": {
      "provenance": []
    },
    "kernelspec": {
      "display_name": "Python 3",
      "name": "python3"
    },
    "language_info": {
      "codemirror_mode": {
        "name": "ipython",
        "version": 3
      },
      "file_extension": ".py",
      "mimetype": "text/x-python",
      "name": "python",
      "nbconvert_exporter": "python",
      "pygments_lexer": "ipython3",
      "version": "3.10.9"
    }
  },
  "nbformat": 4,
  "nbformat_minor": 0
}
